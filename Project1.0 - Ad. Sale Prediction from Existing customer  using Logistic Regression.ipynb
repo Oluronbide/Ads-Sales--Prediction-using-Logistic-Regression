{
 "cells": [
  {
   "cell_type": "markdown",
   "id": "fbe82971",
   "metadata": {},
   "source": [
    "### Project Title - Sales Prediction using Logistic Regression\n",
    "\n",
    "#### Objective: This project is to predict whether or not a New customer will buy a product considering some parameters from previous purchase.\n"
   ]
  },
  {
   "cell_type": "markdown",
   "id": "42f8681e",
   "metadata": {},
   "source": [
    "#### *Importing Libraries*"
   ]
  },
  {
   "cell_type": "code",
   "execution_count": null,
   "id": "8ffde6fa",
   "metadata": {},
   "outputs": [],
   "source": [
    "import pandas as pd #This is useful for laoding the dataset\n",
    "import numpy as np # This is to perform numerical opertion on the dataset\n"
   ]
  },
  {
   "cell_type": "markdown",
   "id": "22cde80e",
   "metadata": {},
   "source": [
    "#### *Loading Dataset file from Local Directory*"
   ]
  },
  {
   "cell_type": "code",
   "execution_count": null,
   "id": "19f095a6",
   "metadata": {},
   "outputs": [],
   "source": [
    "dataset = pd.read_csv(\"DigitalAd_dataset.csv\")\n",
    "dataset"
   ]
  },
  {
   "cell_type": "markdown",
   "id": "3c7ea67c",
   "metadata": {},
   "source": [
    "#### *Summarizing Dataset*"
   ]
  },
  {
   "cell_type": "code",
   "execution_count": null,
   "id": "d841fedc",
   "metadata": {},
   "outputs": [],
   "source": [
    "print(dataset.shape)\n",
    "print(dataset.head(5))"
   ]
  },
  {
   "cell_type": "markdown",
   "id": "89325b1c",
   "metadata": {},
   "source": [
    "#### *Segregating Dataset into X(Input) & Y(Output)*"
   ]
  },
  {
   "cell_type": "code",
   "execution_count": null,
   "id": "1087f668",
   "metadata": {},
   "outputs": [],
   "source": [
    "X=dataset.iloc[:,:-1].values\n",
    "X\n",
    "print()\n",
    "Y=dataset.iloc[:,-1].values\n",
    "Y"
   ]
  },
  {
   "cell_type": "markdown",
   "id": "0eeb064a",
   "metadata": {},
   "source": [
    "#### *Splitting Dataset into Train & Test*"
   ]
  },
  {
   "cell_type": "code",
   "execution_count": null,
   "id": "e5925438",
   "metadata": {},
   "outputs": [],
   "source": [
    "from sklearn.model_selection import train_test_split\n",
    "X_train, X_test, Y_train, Y_test = train_test_split(X,Y, test_size = 0.25, random_state = 0)"
   ]
  },
  {
   "cell_type": "markdown",
   "id": "4e14a506",
   "metadata": {},
   "source": [
    "#### *Feature Scaling* \n",
    "\n",
    "This is used to ensure our model is not biased towards a particular data due to the difference in the weight of the data."
   ]
  },
  {
   "cell_type": "code",
   "execution_count": null,
   "id": "46f98068",
   "metadata": {},
   "outputs": [],
   "source": [
    "from sklearn.preprocessing import StandardScaler\n",
    "sc = StandardScaler()\n",
    "X_train = sc.fit_transform(X_train)\n",
    "X_test = sc.transform(X_test)"
   ]
  },
  {
   "cell_type": "markdown",
   "id": "d38defa3",
   "metadata": {},
   "source": [
    "#### *Training the Dataset*"
   ]
  },
  {
   "cell_type": "code",
   "execution_count": null,
   "id": "a67ba57b",
   "metadata": {},
   "outputs": [],
   "source": [
    "from sklearn.linear_model import LogisticRegression\n",
    "model = LogisticRegression(random_state = 0)\n",
    "model.fit(X_train, Y_train)"
   ]
  },
  {
   "cell_type": "markdown",
   "id": "01624d3d",
   "metadata": {},
   "source": [
    "### *Predicting, wheather or not a New customer will buy considering the Age and Salary*"
   ]
  },
  {
   "cell_type": "code",
   "execution_count": null,
   "id": "11b5d3e4",
   "metadata": {},
   "outputs": [],
   "source": [
    "age = int(input(\"Enter New Customer Age: \"))\n",
    "sal= int(input(\"Enter New Customer Salary: \"))\n",
    "\n",
    "newCust = [[age,sal]]\n",
    "result = model.predict(sc.transform(newCust))\n",
    "print (result)\n",
    "if result == 1:\n",
    "    print(\"Customer  will buy\")\n",
    "else:\n",
    "    print(\"Customer will not buy\")"
   ]
  },
  {
   "cell_type": "markdown",
   "id": "4ac6b74a",
   "metadata": {},
   "source": [
    "#### *Prediction for all Test Data*"
   ]
  },
  {
   "cell_type": "code",
   "execution_count": null,
   "id": "a476cba6",
   "metadata": {},
   "outputs": [],
   "source": [
    "Y_pred = model.predict(X_test)\n",
    "print(np.concatenate((Y_pred.reshape(len(Y_pred),1), Y_test.reshape(len(Y_test),1)),1))"
   ]
  },
  {
   "cell_type": "markdown",
   "id": "e124440f",
   "metadata": {},
   "source": [
    "#### *Evaluating Model - CONFUSION MATRIX*"
   ]
  },
  {
   "cell_type": "code",
   "execution_count": null,
   "id": "0489624b",
   "metadata": {},
   "outputs": [],
   "source": [
    "from sklearn.metrics import confusion_matrix, accuracy_score\n",
    "cm = confusion_matrix(Y_test, Y_pred)\n",
    "\n",
    "print(\"Confusion Matrix: \")\n",
    "print(cm)\n",
    "\n",
    "print(\"Accuracy of the Model: {0}%\".format(accuracy_score(Y_test, Y_pred)*100))"
   ]
  },
  {
   "cell_type": "markdown",
   "id": "e016aa44",
   "metadata": {},
   "source": []
  }
 ],
 "metadata": {
  "kernelspec": {
   "display_name": "Python 3 (ipykernel)",
   "language": "python",
   "name": "python3"
  },
  "language_info": {
   "codemirror_mode": {
    "name": "ipython",
    "version": 3
   },
   "file_extension": ".py",
   "mimetype": "text/x-python",
   "name": "python",
   "nbconvert_exporter": "python",
   "pygments_lexer": "ipython3",
   "version": "3.9.12"
  }
 },
 "nbformat": 4,
 "nbformat_minor": 5
}
